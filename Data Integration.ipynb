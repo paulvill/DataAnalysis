{
 "cells": [
  {
   "cell_type": "markdown",
   "id": "04d748e4",
   "metadata": {},
   "source": [
    "### Data\n",
    "\n",
    "Let's first download the data there https://github.com/sib-swiss/summer-school-multiomics-data-analysis-and-integration/tree/master/general/datasets/BreastCancer_WGCNA\n",
    "\n",
    "We will use the three modalities:\n",
    "- mrna.csv which contains the mRNA expression data\n",
    "- mirna.csv which contains the miRNA expression data\n",
    "- protein.csv which contains protein abundance data\n",
    "\n",
    "and the file clinical.csv which contains samples metadata, including molecular subtypes\n",
    "\n",
    "Explore the data modality by modality, using PCA, UMAP and other dimensionality reduction"
   ]
  },
  {
   "cell_type": "code",
   "execution_count": 30,
   "id": "e1a414c6",
   "metadata": {},
   "outputs": [],
   "source": [
    "\n",
    "import pandas as pd\n",
    "import matplotlib.pyplot as plt\n",
    "from sklearn.decomposition import PCA\n",
    "from scipy import stats\n",
    "import numpy as np\n",
    "import umap\n",
    "from sklearn.manifold import TSNE"
   ]
  },
  {
   "cell_type": "code",
   "execution_count": 15,
   "id": "da6796ee",
   "metadata": {},
   "outputs": [],
   "source": [
    "# load the data\n"
   ]
  },
  {
   "cell_type": "code",
   "execution_count": 31,
   "id": "2a38c952",
   "metadata": {},
   "outputs": [],
   "source": [
    "# Let's first explore a bit the data: size, dimensions, what is common and what is different between the various datasets\n",
    "\n",
    "\n"
   ]
  },
  {
   "cell_type": "code",
   "execution_count": 17,
   "id": "68e8c351",
   "metadata": {},
   "outputs": [],
   "source": [
    "# how many cancer subtypes? \n",
    "\n",
    "# turn the cancer type into an array of indices 'LumA' = 1 , 'Basal' = 2, 'Her2' = 3, 'LumB' = 4 to help with the visualization\n"
   ]
  },
  {
   "cell_type": "code",
   "execution_count": 32,
   "id": "3131aaec",
   "metadata": {},
   "outputs": [],
   "source": [
    "# pca 2d scatter plot of protein abundance colored by cancer type and percentage of variance explained\n"
   ]
  },
  {
   "cell_type": "code",
   "execution_count": 33,
   "id": "a20a3f64",
   "metadata": {},
   "outputs": [],
   "source": [
    "# non-linear dimensionality reduction colored by cancer type\n",
    "\n",
    "\n"
   ]
  },
  {
   "cell_type": "code",
   "execution_count": null,
   "id": "79a6548a",
   "metadata": {},
   "outputs": [],
   "source": []
  },
  {
   "cell_type": "markdown",
   "id": "d7aa7dda",
   "metadata": {},
   "source": [
    "Perform Joint Dimensionality reduction with JIVE\n",
    "\n",
    "https://pypi.org/project/jive/"
   ]
  },
  {
   "cell_type": "code",
   "execution_count": 29,
   "id": "a74223f7",
   "metadata": {},
   "outputs": [],
   "source": [
    "from jive.AJIVE import AJIVE\n",
    "from jive.PCA import PCA\n",
    "from jive.ajive_fig2 import generate_data_ajive_fig2\n",
    "from jive.viz.block_visualization import data_block_heatmaps, jive_full_estimate_heatmaps"
   ]
  },
  {
   "cell_type": "code",
   "execution_count": 36,
   "id": "ce7f8d26",
   "metadata": {},
   "outputs": [],
   "source": [
    "# plot the raw data as heatmap for mRNA and miRNA"
   ]
  },
  {
   "cell_type": "code",
   "execution_count": 38,
   "id": "ca168a12",
   "metadata": {},
   "outputs": [],
   "source": [
    "# determine initial signal ranks by inspecting scree plots\n"
   ]
  },
  {
   "cell_type": "code",
   "execution_count": 37,
   "id": "8e3da37d",
   "metadata": {},
   "outputs": [],
   "source": [
    "# show the joint and individual factors and the noise "
   ]
  },
  {
   "cell_type": "markdown",
   "id": "bfe3f04b",
   "metadata": {},
   "source": [
    "To go further, a comparison of multiple linear data integration strategies\n",
    "https://github.com/cantinilab/momix-notebook/tree/master\n",
    "\n",
    "Tutorial on MOFA and Mefisto (R mainly)\n",
    "https://biofam.github.io/MOFA2/"
   ]
  },
  {
   "cell_type": "code",
   "execution_count": null,
   "id": "9673d7c1",
   "metadata": {},
   "outputs": [],
   "source": []
  }
 ],
 "metadata": {
  "kernelspec": {
   "display_name": "Python 3 (ipykernel)",
   "language": "python",
   "name": "python3"
  },
  "language_info": {
   "codemirror_mode": {
    "name": "ipython",
    "version": 3
   },
   "file_extension": ".py",
   "mimetype": "text/x-python",
   "name": "python",
   "nbconvert_exporter": "python",
   "pygments_lexer": "ipython3",
   "version": "3.11.9"
  }
 },
 "nbformat": 4,
 "nbformat_minor": 5
}
