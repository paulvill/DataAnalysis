{
 "cells": [
  {
   "cell_type": "markdown",
   "metadata": {},
   "source": [
    "The aim of this hands-on session is to explore the effect of geometry on unsupervised learning methods\n",
    "\n",
    "We will use the Swiss Roll dataset, and apply various dimensionality reduction and clustering methods"
   ]
  },
  {
   "cell_type": "code",
   "execution_count": null,
   "metadata": {},
   "outputs": [],
   "source": [
    "\n",
    "import numpy as np\n",
    "import matplotlib.pyplot as plt\n",
    "%matplotlib inline\n",
    "from sklearn.datasets import make_swiss_roll"
   ]
  },
  {
   "cell_type": "code",
   "execution_count": null,
   "metadata": {},
   "outputs": [],
   "source": [
    "# #############################################################################\n",
    "# Generate data (swiss roll dataset)\n",
    "n_samples = 1500\n",
    "noise = 0.05\n",
    "X, t = make_swiss_roll(n_samples, noise=noise)\n"
   ]
  },
  {
   "cell_type": "code",
   "execution_count": null,
   "metadata": {},
   "outputs": [],
   "source": [
    "# #############################################################################\n",
    "# Visualize data\n",
    "\n",
    "# Import dependencies\n",
    "import plotly\n",
    "import plotly.graph_objs as go\n",
    "\n",
    "# Configure Plotly to be rendered inline in the notebook.\n",
    "plotly.offline.init_notebook_mode()\n",
    "l = 1;\n",
    "# Configure the trace.\n",
    "trace = go.Scatter3d(\n",
    "    x = X[:, 0],  \n",
    "    y = X[:, 1],  \n",
    "    z = X[:, 2], \n",
    "    mode='markers',\n",
    "    marker={\n",
    "        'size': 10,\n",
    "        'opacity': 1,\n",
    "        'color' : t,\n",
    "    }\n",
    ")\n",
    "\n",
    "# Configure the layout.\n",
    "layout = go.Layout(\n",
    "    margin={'l': 0, 'r': 0, 'b': 0, 't': 0}\n",
    ")\n",
    "\n",
    "data = [trace]\n",
    "\n",
    "plot_figure = go.Figure(data=data, layout=layout)\n",
    "\n",
    "# Render the plot.\n",
    "plotly.offline.iplot(plot_figure)"
   ]
  },
  {
   "cell_type": "code",
   "execution_count": null,
   "metadata": {},
   "outputs": [],
   "source": [
    "#Exercise: Visualize the data in the 2D plane of the first two components of the PCA\n",
    "# compute the PCA as the first eigenvectors of the covariance matrix (centered data)\n",
    "# compare with sklearn PCA\n",
    "\n",
    "\n"
   ]
  },
  {
   "cell_type": "code",
   "execution_count": null,
   "metadata": {},
   "outputs": [],
   "source": [
    "# exercise - compare the 2d embedding obtained from various methods non linear dimensionality methods: isomap, t-sne, \n",
    "# umap\n",
    "# use the library sklearn.manifold\n",
    "\n"
   ]
  },
  {
   "cell_type": "code",
   "execution_count": null,
   "metadata": {},
   "outputs": [],
   "source": [
    "# compute clusters on the data \n",
    "\n",
    "# exercise: k-means on the original 3D data and visualize in the 3D space versus in the various embeddings\n",
    "# compute k-means using sklearn function k = 5\n"
   ]
  },
  {
   "cell_type": "code",
   "execution_count": null,
   "metadata": {},
   "outputs": [],
   "source": [
    "# exercise: compute K-means on the Isomap embedding and visualize in 3D\n",
    "\n"
   ]
  },
  {
   "cell_type": "code",
   "execution_count": null,
   "metadata": {},
   "outputs": [],
   "source": [
    "# exercise: compute DBScan on the 3D data \n"
   ]
  },
  {
   "cell_type": "code",
   "execution_count": null,
   "metadata": {},
   "outputs": [],
   "source": [
    "# exercise: compute hierarchical clustering\n"
   ]
  }
 ],
 "metadata": {
  "kernelspec": {
   "display_name": "Python 3 (ipykernel)",
   "language": "python",
   "name": "python3"
  },
  "language_info": {
   "codemirror_mode": {
    "name": "ipython",
    "version": 3
   },
   "file_extension": ".py",
   "mimetype": "text/x-python",
   "name": "python",
   "nbconvert_exporter": "python",
   "pygments_lexer": "ipython3",
   "version": "3.11.9"
  }
 },
 "nbformat": 4,
 "nbformat_minor": 2
}
